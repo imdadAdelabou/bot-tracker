{
  "nbformat": 4,
  "nbformat_minor": 0,
  "metadata": {
    "colab": {
      "name": "Untitled0.ipynb",
      "provenance": [],
      "authorship_tag": "ABX9TyP7Hm07osZHxhO03JWZbrkI",
      "include_colab_link": true
    },
    "kernelspec": {
      "name": "python3",
      "display_name": "Python 3"
    },
    "language_info": {
      "name": "python"
    }
  },
  "cells": [
    {
      "cell_type": "markdown",
      "metadata": {
        "id": "view-in-github",
        "colab_type": "text"
      },
      "source": [
        "<a href=\"https://colab.research.google.com/github/imdadAdelabou/bot-tracker/blob/master/Untitled0.ipynb\" target=\"_parent\"><img src=\"https://colab.research.google.com/assets/colab-badge.svg\" alt=\"Open In Colab\"/></a>"
      ]
    },
    {
      "cell_type": "markdown",
      "source": [
        "Installation des bibliothèques"
      ],
      "metadata": {
        "id": "CX1K4SrZGRRZ"
      }
    },
    {
      "cell_type": "code",
      "execution_count": null,
      "metadata": {
        "id": "RNtHYCzJ9xEJ",
        "colab": {
          "base_uri": "https://localhost:8080/"
        },
        "outputId": "2adf4e2d-0f15-4fe4-e63d-06e93e49abf1"
      },
      "outputs": [
        {
          "output_type": "stream",
          "name": "stdout",
          "text": [
            "Requirement already satisfied: python.binance in /usr/local/lib/python3.7/dist-packages (1.0.15)\n",
            "Requirement already satisfied: dateparser in /usr/local/lib/python3.7/dist-packages (from python.binance) (1.1.0)\n",
            "Requirement already satisfied: ujson in /usr/local/lib/python3.7/dist-packages (from python.binance) (5.1.0)\n",
            "Requirement already satisfied: websockets==9.1 in /usr/local/lib/python3.7/dist-packages (from python.binance) (9.1)\n",
            "Requirement already satisfied: requests in /usr/local/lib/python3.7/dist-packages (from python.binance) (2.23.0)\n",
            "Requirement already satisfied: aiohttp in /usr/local/lib/python3.7/dist-packages (from python.binance) (3.8.1)\n",
            "Requirement already satisfied: six in /usr/local/lib/python3.7/dist-packages (from python.binance) (1.15.0)\n",
            "Requirement already satisfied: yarl<2.0,>=1.0 in /usr/local/lib/python3.7/dist-packages (from aiohttp->python.binance) (1.7.2)\n",
            "Requirement already satisfied: charset-normalizer<3.0,>=2.0 in /usr/local/lib/python3.7/dist-packages (from aiohttp->python.binance) (2.0.11)\n",
            "Requirement already satisfied: multidict<7.0,>=4.5 in /usr/local/lib/python3.7/dist-packages (from aiohttp->python.binance) (6.0.2)\n",
            "Requirement already satisfied: frozenlist>=1.1.1 in /usr/local/lib/python3.7/dist-packages (from aiohttp->python.binance) (1.3.0)\n",
            "Requirement already satisfied: typing-extensions>=3.7.4 in /usr/local/lib/python3.7/dist-packages (from aiohttp->python.binance) (3.10.0.2)\n",
            "Requirement already satisfied: async-timeout<5.0,>=4.0.0a3 in /usr/local/lib/python3.7/dist-packages (from aiohttp->python.binance) (4.0.2)\n",
            "Requirement already satisfied: attrs>=17.3.0 in /usr/local/lib/python3.7/dist-packages (from aiohttp->python.binance) (21.4.0)\n",
            "Requirement already satisfied: aiosignal>=1.1.2 in /usr/local/lib/python3.7/dist-packages (from aiohttp->python.binance) (1.2.0)\n",
            "Requirement already satisfied: asynctest==0.13.0 in /usr/local/lib/python3.7/dist-packages (from aiohttp->python.binance) (0.13.0)\n",
            "Requirement already satisfied: idna>=2.0 in /usr/local/lib/python3.7/dist-packages (from yarl<2.0,>=1.0->aiohttp->python.binance) (2.10)\n",
            "Requirement already satisfied: regex!=2019.02.19,!=2021.8.27 in /usr/local/lib/python3.7/dist-packages (from dateparser->python.binance) (2019.12.20)\n",
            "Requirement already satisfied: pytz in /usr/local/lib/python3.7/dist-packages (from dateparser->python.binance) (2018.9)\n",
            "Requirement already satisfied: tzlocal in /usr/local/lib/python3.7/dist-packages (from dateparser->python.binance) (1.5.1)\n",
            "Requirement already satisfied: python-dateutil in /usr/local/lib/python3.7/dist-packages (from dateparser->python.binance) (2.8.2)\n",
            "Requirement already satisfied: urllib3!=1.25.0,!=1.25.1,<1.26,>=1.21.1 in /usr/local/lib/python3.7/dist-packages (from requests->python.binance) (1.24.3)\n",
            "Requirement already satisfied: chardet<4,>=3.0.2 in /usr/local/lib/python3.7/dist-packages (from requests->python.binance) (3.0.4)\n",
            "Requirement already satisfied: certifi>=2017.4.17 in /usr/local/lib/python3.7/dist-packages (from requests->python.binance) (2021.10.8)\n"
          ]
        }
      ],
      "source": [
        "pip install python.binance"
      ]
    },
    {
      "cell_type": "code",
      "source": [
        "pip install python-binance"
      ],
      "metadata": {
        "id": "XGjR-6IJ-eXM",
        "colab": {
          "base_uri": "https://localhost:8080/"
        },
        "outputId": "844ccd6a-59cd-4460-cb80-bac3d8389e3a"
      },
      "execution_count": null,
      "outputs": [
        {
          "output_type": "stream",
          "name": "stdout",
          "text": [
            "Requirement already satisfied: python-binance in /usr/local/lib/python3.7/dist-packages (1.0.15)\n",
            "Requirement already satisfied: dateparser in /usr/local/lib/python3.7/dist-packages (from python-binance) (1.1.0)\n",
            "Requirement already satisfied: requests in /usr/local/lib/python3.7/dist-packages (from python-binance) (2.23.0)\n",
            "Requirement already satisfied: aiohttp in /usr/local/lib/python3.7/dist-packages (from python-binance) (3.8.1)\n",
            "Requirement already satisfied: websockets==9.1 in /usr/local/lib/python3.7/dist-packages (from python-binance) (9.1)\n",
            "Requirement already satisfied: ujson in /usr/local/lib/python3.7/dist-packages (from python-binance) (5.1.0)\n",
            "Requirement already satisfied: six in /usr/local/lib/python3.7/dist-packages (from python-binance) (1.15.0)\n",
            "Requirement already satisfied: yarl<2.0,>=1.0 in /usr/local/lib/python3.7/dist-packages (from aiohttp->python-binance) (1.7.2)\n",
            "Requirement already satisfied: asynctest==0.13.0 in /usr/local/lib/python3.7/dist-packages (from aiohttp->python-binance) (0.13.0)\n",
            "Requirement already satisfied: typing-extensions>=3.7.4 in /usr/local/lib/python3.7/dist-packages (from aiohttp->python-binance) (3.10.0.2)\n",
            "Requirement already satisfied: charset-normalizer<3.0,>=2.0 in /usr/local/lib/python3.7/dist-packages (from aiohttp->python-binance) (2.0.11)\n",
            "Requirement already satisfied: attrs>=17.3.0 in /usr/local/lib/python3.7/dist-packages (from aiohttp->python-binance) (21.4.0)\n",
            "Requirement already satisfied: frozenlist>=1.1.1 in /usr/local/lib/python3.7/dist-packages (from aiohttp->python-binance) (1.3.0)\n",
            "Requirement already satisfied: async-timeout<5.0,>=4.0.0a3 in /usr/local/lib/python3.7/dist-packages (from aiohttp->python-binance) (4.0.2)\n",
            "Requirement already satisfied: multidict<7.0,>=4.5 in /usr/local/lib/python3.7/dist-packages (from aiohttp->python-binance) (6.0.2)\n",
            "Requirement already satisfied: aiosignal>=1.1.2 in /usr/local/lib/python3.7/dist-packages (from aiohttp->python-binance) (1.2.0)\n",
            "Requirement already satisfied: idna>=2.0 in /usr/local/lib/python3.7/dist-packages (from yarl<2.0,>=1.0->aiohttp->python-binance) (2.10)\n",
            "Requirement already satisfied: python-dateutil in /usr/local/lib/python3.7/dist-packages (from dateparser->python-binance) (2.8.2)\n",
            "Requirement already satisfied: regex!=2019.02.19,!=2021.8.27 in /usr/local/lib/python3.7/dist-packages (from dateparser->python-binance) (2019.12.20)\n",
            "Requirement already satisfied: tzlocal in /usr/local/lib/python3.7/dist-packages (from dateparser->python-binance) (1.5.1)\n",
            "Requirement already satisfied: pytz in /usr/local/lib/python3.7/dist-packages (from dateparser->python-binance) (2018.9)\n",
            "Requirement already satisfied: urllib3!=1.25.0,!=1.25.1,<1.26,>=1.21.1 in /usr/local/lib/python3.7/dist-packages (from requests->python-binance) (1.24.3)\n",
            "Requirement already satisfied: certifi>=2017.4.17 in /usr/local/lib/python3.7/dist-packages (from requests->python-binance) (2021.10.8)\n",
            "Requirement already satisfied: chardet<4,>=3.0.2 in /usr/local/lib/python3.7/dist-packages (from requests->python-binance) (3.0.4)\n"
          ]
        }
      ]
    },
    {
      "cell_type": "code",
      "source": [
        "pip install ta"
      ],
      "metadata": {
        "id": "YXV5kty--fXE",
        "colab": {
          "base_uri": "https://localhost:8080/"
        },
        "outputId": "fbaa7b5a-c0f9-4f27-a6e3-7cd7315c9e7a"
      },
      "execution_count": null,
      "outputs": [
        {
          "output_type": "stream",
          "name": "stdout",
          "text": [
            "Requirement already satisfied: ta in /usr/local/lib/python3.7/dist-packages (0.9.0)\n",
            "Requirement already satisfied: pandas in /usr/local/lib/python3.7/dist-packages (from ta) (1.3.5)\n",
            "Requirement already satisfied: numpy in /usr/local/lib/python3.7/dist-packages (from ta) (1.19.5)\n",
            "Requirement already satisfied: pytz>=2017.3 in /usr/local/lib/python3.7/dist-packages (from pandas->ta) (2018.9)\n",
            "Requirement already satisfied: python-dateutil>=2.7.3 in /usr/local/lib/python3.7/dist-packages (from pandas->ta) (2.8.2)\n",
            "Requirement already satisfied: six>=1.5 in /usr/local/lib/python3.7/dist-packages (from python-dateutil>=2.7.3->pandas->ta) (1.15.0)\n"
          ]
        }
      ]
    },
    {
      "cell_type": "markdown",
      "source": [
        "Client importation"
      ],
      "metadata": {
        "id": "mfugLuI_Ga6k"
      }
    },
    {
      "cell_type": "code",
      "source": [
        "import pandas as pd\n",
        "from binance.client import Client\n",
        "import ta\n",
        "\n",
        "\n",
        "client = Client()\n",
        "\n",
        "klinesT = client.get_historical_klines(\"BTCUSDT\", Client.KLINE_INTERVAL_1HOUR, \"01 january 2022\")\n",
        "\n",
        "df = pd.DataFrame(klinesT, columns = ['timestamp', 'open', 'high', 'low', 'close', 'volume', 'close_time', 'quote_av', 'trades', 'tb_base_av', 'tb_quote_av', 'ignore' ])"
      ],
      "metadata": {
        "id": "QfVva_Yq_sfm"
      },
      "execution_count": null,
      "outputs": []
    },
    {
      "cell_type": "code",
      "source": [
        "print(df)"
      ],
      "metadata": {
        "colab": {
          "base_uri": "https://localhost:8080/"
        },
        "id": "IPiNnrZuBqxw",
        "outputId": "2b7678cb-c0de-4efa-f5f0-cf40156c5fcf"
      },
      "execution_count": null,
      "outputs": [
        {
          "output_type": "stream",
          "name": "stdout",
          "text": [
            "         timestamp            open  ...        tb_quote_av ignore\n",
            "0    1640995200000  46216.93000000  ...  37462156.91764400      0\n",
            "1    1640998800000  46656.14000000  ...  22963272.85537420      0\n",
            "2    1641002400000  46778.14000000  ...   9662607.06589570      0\n",
            "3    1641006000000  46811.77000000  ...  11629376.39696030      0\n",
            "4    1641009600000  46813.21000000  ...  18575402.25911010      0\n",
            "..             ...             ...  ...                ...    ...\n",
            "856  1644076800000  41761.87000000  ...  35618940.50691510      0\n",
            "857  1644080400000  41283.81000000  ...  58447856.61620240      0\n",
            "858  1644084000000  41583.94000000  ...  17435177.52570670      0\n",
            "859  1644087600000  41683.89000000  ...  12711216.38485310      0\n",
            "860  1644091200000  41544.90000000  ...   8905915.79908590      0\n",
            "\n",
            "[861 rows x 12 columns]\n"
          ]
        }
      ]
    },
    {
      "cell_type": "markdown",
      "source": [
        "Clean Dataset"
      ],
      "metadata": {
        "id": "B9MbIGa7Gtm_"
      }
    },
    {
      "cell_type": "code",
      "source": [
        "#del df['close_time']\n",
        "del df['ignore']\n",
        "del df['quote_av']\n",
        "del df['tb_base_av']\n",
        "#del df['tb_base_av']\n",
        "del df['trades']\n",
        "\n",
        "df['close'] = pd.to_numeric(df['close'])\n",
        "df['high'] = pd.to_numeric(df['high'])\n",
        "df['low'] = pd.to_numeric(df['low'])\n",
        "df['open'] = pd.to_numeric(df['open'])\n",
        "df['volume'] = pd.to_numeric(df['volume'])\n"
      ],
      "metadata": {
        "id": "tgxrsBR5B2_h"
      },
      "execution_count": null,
      "outputs": []
    },
    {
      "cell_type": "code",
      "source": [
        "del df['tb_quote_av']\n",
        "\n",
        "print(df)"
      ],
      "metadata": {
        "colab": {
          "base_uri": "https://localhost:8080/"
        },
        "id": "uwjMpUHiF67L",
        "outputId": "5eee1ec1-0943-45ea-8124-d0bda84c5885"
      },
      "execution_count": null,
      "outputs": [
        {
          "output_type": "stream",
          "name": "stdout",
          "text": [
            "         timestamp      open      high  ...     close      volume     close_time\n",
            "0    1640995200000  46216.93  46731.39  ...  46656.13  1503.33095  1640998799999\n",
            "1    1640998800000  46656.14  46949.99  ...  46778.14   943.81539  1641002399999\n",
            "2    1641002400000  46778.14  46928.94  ...  46811.77   485.16860  1641005999999\n",
            "3    1641006000000  46811.77  46916.63  ...  46813.20   562.88971  1641009599999\n",
            "4    1641009600000  46813.21  46887.33  ...  46711.05   861.88389  1641013199999\n",
            "..             ...       ...       ...  ...       ...         ...            ...\n",
            "856  1644076800000  41761.87  41854.81  ...  41283.81  1777.76781  1644080399999\n",
            "857  1644080400000  41283.81  41686.28  ...  41583.93  2699.97121  1644083999999\n",
            "858  1644084000000  41583.94  41742.45  ...  41683.89   773.47937  1644087599999\n",
            "859  1644087600000  41683.89  41688.18  ...  41544.90   664.24227  1644091199999\n",
            "860  1644091200000  41544.90  41616.04  ...  41502.99   474.80449  1644094799999\n",
            "\n",
            "[861 rows x 7 columns]\n"
          ]
        }
      ]
    },
    {
      "cell_type": "markdown",
      "source": [
        "Convert time"
      ],
      "metadata": {
        "id": "t_MehFFhGz9J"
      }
    },
    {
      "cell_type": "code",
      "source": [
        "df = df.set_index(df['timestamp'])\n",
        "df.index = pd.to_datetime(df.index, unit='ms')\n",
        "del df['close_time']\n",
        "del df['timestamp']\n",
        "\n",
        "print(df)"
      ],
      "metadata": {
        "colab": {
          "base_uri": "https://localhost:8080/"
        },
        "id": "jTrbWEl2Coly",
        "outputId": "5794dd3f-8b9e-43d5-c4ee-6578dbe89666"
      },
      "execution_count": null,
      "outputs": [
        {
          "output_type": "stream",
          "name": "stdout",
          "text": [
            "                         open      high       low     close      volume\n",
            "timestamp                                                              \n",
            "2022-01-01 00:00:00  46216.93  46731.39  46208.37  46656.13  1503.33095\n",
            "2022-01-01 01:00:00  46656.14  46949.99  46574.06  46778.14   943.81539\n",
            "2022-01-01 02:00:00  46778.14  46928.94  46721.96  46811.77   485.16860\n",
            "2022-01-01 03:00:00  46811.77  46916.63  46760.12  46813.20   562.88971\n",
            "2022-01-01 04:00:00  46813.21  46887.33  46591.23  46711.05   861.88389\n",
            "...                       ...       ...       ...       ...         ...\n",
            "2022-02-05 16:00:00  41761.87  41854.81  41230.00  41283.81  1777.76781\n",
            "2022-02-05 17:00:00  41283.81  41686.28  40843.01  41583.93  2699.97121\n",
            "2022-02-05 18:00:00  41583.94  41742.45  41505.79  41683.89   773.47937\n",
            "2022-02-05 19:00:00  41683.89  41688.18  41487.04  41544.90   664.24227\n",
            "2022-02-05 20:00:00  41544.90  41616.04  41380.11  41502.99   474.80449\n",
            "\n",
            "[861 rows x 5 columns]\n"
          ]
        }
      ]
    },
    {
      "cell_type": "markdown",
      "source": [
        "Define Indicators"
      ],
      "metadata": {
        "id": "vex0VxOqITlR"
      }
    },
    {
      "cell_type": "code",
      "source": [
        "df['SMA200'] = ta.trend.sma_indicator(df['close'], 200)\n",
        "df['SMA600'] = ta.trend.sma_indicator(df['close'], 600)\n",
        "\n",
        "print(df)"
      ],
      "metadata": {
        "colab": {
          "base_uri": "https://localhost:8080/"
        },
        "id": "VuNrFS50IS1Z",
        "outputId": "6960e1bf-5461-488b-f379-e1f1f66fccf5"
      },
      "execution_count": null,
      "outputs": [
        {
          "output_type": "stream",
          "name": "stdout",
          "text": [
            "                         open      high  ...       SMA200        SMA600\n",
            "timestamp                                ...                           \n",
            "2022-01-01 00:00:00  46216.93  46731.39  ...          NaN           NaN\n",
            "2022-01-01 01:00:00  46656.14  46949.99  ...          NaN           NaN\n",
            "2022-01-01 02:00:00  46778.14  46928.94  ...          NaN           NaN\n",
            "2022-01-01 03:00:00  46811.77  46916.63  ...          NaN           NaN\n",
            "2022-01-01 04:00:00  46813.21  46887.33  ...          NaN           NaN\n",
            "...                       ...       ...  ...          ...           ...\n",
            "2022-02-05 16:00:00  41761.87  41854.81  ...  38151.47165  39329.217750\n",
            "2022-02-05 17:00:00  41283.81  41686.28  ...  38176.96085  39327.609283\n",
            "2022-02-05 18:00:00  41583.94  41742.45  ...  38202.30355  39325.824100\n",
            "2022-02-05 19:00:00  41683.89  41688.18  ...  38227.78665  39323.445517\n",
            "2022-02-05 20:00:00  41544.90  41616.04  ...  38253.90860  39321.283200\n",
            "\n",
            "[861 rows x 7 columns]\n"
          ]
        }
      ]
    },
    {
      "cell_type": "code",
      "source": [
        "print(df)"
      ],
      "metadata": {
        "colab": {
          "base_uri": "https://localhost:8080/"
        },
        "id": "_0b9pU8tLzIN",
        "outputId": "bdd439ac-c502-4c0a-8165-3faae73652d8"
      },
      "execution_count": null,
      "outputs": [
        {
          "output_type": "stream",
          "name": "stdout",
          "text": [
            "                         open      high  ...       SMA200        SMA600\n",
            "timestamp                                ...                           \n",
            "2022-01-01 00:00:00  46216.93  46731.39  ...          NaN           NaN\n",
            "2022-01-01 01:00:00  46656.14  46949.99  ...          NaN           NaN\n",
            "2022-01-01 02:00:00  46778.14  46928.94  ...          NaN           NaN\n",
            "2022-01-01 03:00:00  46811.77  46916.63  ...          NaN           NaN\n",
            "2022-01-01 04:00:00  46813.21  46887.33  ...          NaN           NaN\n",
            "...                       ...       ...  ...          ...           ...\n",
            "2022-02-05 16:00:00  41761.87  41854.81  ...  38151.47165  39329.217750\n",
            "2022-02-05 17:00:00  41283.81  41686.28  ...  38176.96085  39327.609283\n",
            "2022-02-05 18:00:00  41583.94  41742.45  ...  38202.30355  39325.824100\n",
            "2022-02-05 19:00:00  41683.89  41688.18  ...  38227.78665  39323.445517\n",
            "2022-02-05 20:00:00  41544.90  41616.04  ...  38253.90860  39321.283200\n",
            "\n",
            "[861 rows x 7 columns]\n"
          ]
        }
      ]
    },
    {
      "cell_type": "markdown",
      "source": [
        "Backtest"
      ],
      "metadata": {
        "id": "lOYfDElRMRuk"
      }
    },
    {
      "cell_type": "code",
      "source": [
        "usdt = 100\n",
        "btc = 0\n",
        "\n",
        "lastIndex = df.first_valid_index()\n",
        "\n",
        "for index, row in df.iterrows():\n",
        "  if df['SMA200'][lastIndex] > df['SMA600'][lastIndex] and usdt > 10:\n",
        "    btc = usdt/df['close'][index]\n",
        "    btc = btc - 0.007*btc\n",
        "    usdt = 0\n",
        "    print(\"Buy BTC at \",df['close'][index],\"$ the \",index)\n",
        "  if df['SMA600'][lastIndex] > df['SMA200'][lastIndex] and btc > 0.0001:\n",
        "    usdt = btc*df['close'][index]\n",
        "    usdt = usdt - 0.007*usdt\n",
        "    btc = 0\n",
        "    print(\"Sell BTC at \",df['close'][index],\"$ the \",index)\n",
        "  lastIndex = index"
      ],
      "metadata": {
        "id": "nCXt80U6MTja"
      },
      "execution_count": null,
      "outputs": []
    },
    {
      "cell_type": "code",
      "source": [
        "finalResult = usdt + btc*df['close'].iloc[-1]\n",
        "print(\"Wallet contains \",usdt,\" USDT\")"
      ],
      "metadata": {
        "colab": {
          "base_uri": "https://localhost:8080/"
        },
        "id": "-mrrStrfRCuJ",
        "outputId": "6c6a44f3-c956-40eb-93ab-0549aa76918e"
      },
      "execution_count": null,
      "outputs": [
        {
          "output_type": "stream",
          "name": "stdout",
          "text": [
            "Wallet contains  100  USDT\n"
          ]
        }
      ]
    },
    {
      "cell_type": "code",
      "source": [
        "#final result with hodl\n",
        "\n",
        "usdt = 100/df['close'].iloc[0]*df['close'].iloc[-1]\n",
        "print(\"Value of wallet with buy and hodl : \",usdt,\" USDT\")"
      ],
      "metadata": {
        "colab": {
          "base_uri": "https://localhost:8080/"
        },
        "id": "EHxMBmcnRpgL",
        "outputId": "e95792c9-2120-4c96-94c7-f64481dc1ff5"
      },
      "execution_count": null,
      "outputs": [
        {
          "output_type": "stream",
          "name": "stdout",
          "text": [
            "Value of wallet with buy and hodl :  88.95506335394727  USDT\n"
          ]
        }
      ]
    },
    {
      "cell_type": "markdown",
      "source": [
        "Robot"
      ],
      "metadata": {
        "id": "zyL9AYQh_dQU"
      }
    },
    {
      "cell_type": "code",
      "source": [
        "pip install ftx"
      ],
      "metadata": {
        "colab": {
          "base_uri": "https://localhost:8080/"
        },
        "id": "AzS5DJBu_STD",
        "outputId": "cd44cd83-e0b2-410e-f602-9c14b13df44a"
      },
      "execution_count": null,
      "outputs": [
        {
          "output_type": "stream",
          "name": "stdout",
          "text": [
            "Collecting ftx\n",
            "  Downloading ftx-1.2.0-py3-none-any.whl (7.0 kB)\n",
            "Collecting ciso8601\n",
            "  Downloading ciso8601-2.2.0.tar.gz (18 kB)\n",
            "  Installing build dependencies ... \u001b[?25l\u001b[?25hdone\n",
            "  Getting requirements to build wheel ... \u001b[?25l\u001b[?25hdone\n",
            "    Preparing wheel metadata ... \u001b[?25l\u001b[?25hdone\n",
            "Requirement already satisfied: requests in /usr/local/lib/python3.7/dist-packages (from ftx) (2.23.0)\n",
            "Requirement already satisfied: certifi>=2017.4.17 in /usr/local/lib/python3.7/dist-packages (from requests->ftx) (2021.10.8)\n",
            "Requirement already satisfied: chardet<4,>=3.0.2 in /usr/local/lib/python3.7/dist-packages (from requests->ftx) (3.0.4)\n",
            "Requirement already satisfied: idna<3,>=2.5 in /usr/local/lib/python3.7/dist-packages (from requests->ftx) (2.10)\n",
            "Requirement already satisfied: urllib3!=1.25.0,!=1.25.1,<1.26,>=1.21.1 in /usr/local/lib/python3.7/dist-packages (from requests->ftx) (1.24.3)\n",
            "Building wheels for collected packages: ciso8601\n",
            "  Building wheel for ciso8601 (PEP 517) ... \u001b[?25l\u001b[?25hdone\n",
            "  Created wheel for ciso8601: filename=ciso8601-2.2.0-cp37-cp37m-linux_x86_64.whl size=37528 sha256=e77b7dc73c614ee0207c1a9b6012541da11d71d2ee6e0dde3a652181ecdd7de7\n",
            "  Stored in directory: /root/.cache/pip/wheels/ad/25/8f/3b0a82303191efe3c1204f3741c42d8eb2b0236567e22485de\n",
            "Successfully built ciso8601\n",
            "Installing collected packages: ciso8601, ftx\n",
            "Successfully installed ciso8601-2.2.0 ftx-1.2.0\n"
          ]
        }
      ]
    },
    {
      "cell_type": "code",
      "source": [
        "pip install ciso8601"
      ],
      "metadata": {
        "colab": {
          "base_uri": "https://localhost:8080/"
        },
        "id": "mnqJCJVG_fl8",
        "outputId": "ba980c7b-2404-4b70-f68d-3b7c0f98a347"
      },
      "execution_count": null,
      "outputs": [
        {
          "output_type": "stream",
          "name": "stdout",
          "text": [
            "Requirement already satisfied: ciso8601 in /usr/local/lib/python3.7/dist-packages (2.2.0)\n"
          ]
        }
      ]
    },
    {
      "cell_type": "code",
      "source": [
        "pip install ta"
      ],
      "metadata": {
        "colab": {
          "base_uri": "https://localhost:8080/"
        },
        "id": "buX3fbn-_o5B",
        "outputId": "e731ee79-4e88-4e6f-dbb7-473cd141f664"
      },
      "execution_count": null,
      "outputs": [
        {
          "output_type": "stream",
          "name": "stdout",
          "text": [
            "Collecting ta\n",
            "  Downloading ta-0.9.0.tar.gz (25 kB)\n",
            "Requirement already satisfied: numpy in /usr/local/lib/python3.7/dist-packages (from ta) (1.19.5)\n",
            "Requirement already satisfied: pandas in /usr/local/lib/python3.7/dist-packages (from ta) (1.3.5)\n",
            "Requirement already satisfied: pytz>=2017.3 in /usr/local/lib/python3.7/dist-packages (from pandas->ta) (2018.9)\n",
            "Requirement already satisfied: python-dateutil>=2.7.3 in /usr/local/lib/python3.7/dist-packages (from pandas->ta) (2.8.2)\n",
            "Requirement already satisfied: six>=1.5 in /usr/local/lib/python3.7/dist-packages (from python-dateutil>=2.7.3->pandas->ta) (1.15.0)\n",
            "Building wheels for collected packages: ta\n",
            "  Building wheel for ta (setup.py) ... \u001b[?25l\u001b[?25hdone\n",
            "  Created wheel for ta: filename=ta-0.9.0-py3-none-any.whl size=28908 sha256=73320e1c9b2d94ad8305c304454aa8da8c87efaff144188ee815fa19e71ca7c1\n",
            "  Stored in directory: /root/.cache/pip/wheels/72/78/64/cc1c01506a1010a9845e9bd7c69333730f7174661228ea4f98\n",
            "Successfully built ta\n",
            "Installing collected packages: ta\n",
            "Successfully installed ta-0.9.0\n"
          ]
        }
      ]
    },
    {
      "cell_type": "code",
      "source": [
        "import ftx\n",
        "import pandas as pd\n",
        "import ta\n",
        "import time\n",
        "import json\n",
        "from math import *"
      ],
      "metadata": {
        "id": "2HUQcth-_wSg"
      },
      "execution_count": null,
      "outputs": []
    },
    {
      "cell_type": "code",
      "source": [
        "accountName =  'Robottest'\n",
        "pairSymbol = 'BTC/USD'\n",
        "fiatSymbol = 'USD'\n",
        "cryptoSymbol = 'BTC'\n",
        "myTruncate = 4\n",
        "\n",
        "client = ftx.FtxClient(api_key='UX2_HfGu_4VoS98bmOoJtVM2bat8sk2F9w7m2it5', api_secret='bf2rFbDkNLQ2TBhPw3lTRR2FJZAaosAEhx38bcL-', subaccount_name=accountName)\n",
        "\n",
        "data = client.get_historical_data(\n",
        "    market_name=pairSymbol,\n",
        "    resolution=3600,\n",
        "    limit=650,\n",
        "    start_time=float(round(time.time()))-650*3600,\n",
        "    end_time=float(round(time.time())))\n",
        "df = pd.DataFrame(data)\n",
        "\n",
        "df['SMA200'] = ta.trend.sma_indicator(df['close'], 200)\n",
        "df['SMA600'] = ta.trend.sma_indicator(df['close'], 600)\n",
        "\n",
        "print(df)"
      ],
      "metadata": {
        "colab": {
          "base_uri": "https://localhost:8080/"
        },
        "id": "E3uAb1BHAUfK",
        "outputId": "dd3dcb0d-ff1f-4120-9670-b2b99d4406c7"
      },
      "execution_count": null,
      "outputs": [
        {
          "output_type": "stream",
          "name": "stdout",
          "text": [
            "                     startTime          time  ...     SMA200        SMA600\n",
            "0    2022-01-10T16:00:00+00:00  1.641830e+12  ...        NaN           NaN\n",
            "1    2022-01-10T17:00:00+00:00  1.641834e+12  ...        NaN           NaN\n",
            "2    2022-01-10T18:00:00+00:00  1.641838e+12  ...        NaN           NaN\n",
            "3    2022-01-10T19:00:00+00:00  1.641841e+12  ...        NaN           NaN\n",
            "4    2022-01-10T20:00:00+00:00  1.641845e+12  ...        NaN           NaN\n",
            "..                         ...           ...  ...        ...           ...\n",
            "645  2022-02-06T13:00:00+00:00  1.644152e+12  ...  38629.420  39304.486667\n",
            "646  2022-02-06T14:00:00+00:00  1.644156e+12  ...  38647.285  39300.243333\n",
            "647  2022-02-06T15:00:00+00:00  1.644160e+12  ...  38665.770  39296.876667\n",
            "648  2022-02-06T16:00:00+00:00  1.644163e+12  ...  38685.115  39293.633333\n",
            "649  2022-02-06T17:00:00+00:00  1.644167e+12  ...  38705.005  39290.046667\n",
            "\n",
            "[650 rows x 9 columns]\n"
          ]
        }
      ]
    },
    {
      "cell_type": "code",
      "source": [
        "def getBalance(myclient,coin):\n",
        "    jsonBalance = myclient.get_balances()\n",
        "    pandaBalance = pd.DataFrame(jsonBalance)\n",
        "    if pandaBalance.loc[pandaBalance['coin'] == coin].empty : return 0\n",
        "    else : return float(pandaBalance.loc[pandaBalance['coin'] == coin]['free'])\n",
        "\n",
        "def truncate(n, decimals = 0):\n",
        "  r = floor(float(n)*10**decimals/10**decimals)\n",
        "  return str(r)\n",
        "\n",
        "actualPrice = df['close'].iloc[-1]\n",
        "fiatAmount = getBalance(client, fiatSymbol)\n",
        "cryptoAmount = getBalance(client, cryptoSymbol)\n",
        "\n",
        "print(actualPrice, fiatAmount, cryptoAmount)"
      ],
      "metadata": {
        "colab": {
          "base_uri": "https://localhost:8080/",
          "height": 502
        },
        "id": "Iy6TUkGJE8lE",
        "outputId": "89dbf0f6-f243-407d-826a-5aafcd9280f3"
      },
      "execution_count": null,
      "outputs": [
        {
          "output_type": "error",
          "ename": "KeyError",
          "evalue": "ignored",
          "traceback": [
            "\u001b[0;31m---------------------------------------------------------------------------\u001b[0m",
            "\u001b[0;31mKeyError\u001b[0m                                  Traceback (most recent call last)",
            "\u001b[0;32m/usr/local/lib/python3.7/dist-packages/pandas/core/indexes/base.py\u001b[0m in \u001b[0;36mget_loc\u001b[0;34m(self, key, method, tolerance)\u001b[0m\n\u001b[1;32m   3360\u001b[0m             \u001b[0;32mtry\u001b[0m\u001b[0;34m:\u001b[0m\u001b[0;34m\u001b[0m\u001b[0;34m\u001b[0m\u001b[0m\n\u001b[0;32m-> 3361\u001b[0;31m                 \u001b[0;32mreturn\u001b[0m \u001b[0mself\u001b[0m\u001b[0;34m.\u001b[0m\u001b[0m_engine\u001b[0m\u001b[0;34m.\u001b[0m\u001b[0mget_loc\u001b[0m\u001b[0;34m(\u001b[0m\u001b[0mcasted_key\u001b[0m\u001b[0;34m)\u001b[0m\u001b[0;34m\u001b[0m\u001b[0;34m\u001b[0m\u001b[0m\n\u001b[0m\u001b[1;32m   3362\u001b[0m             \u001b[0;32mexcept\u001b[0m \u001b[0mKeyError\u001b[0m \u001b[0;32mas\u001b[0m \u001b[0merr\u001b[0m\u001b[0;34m:\u001b[0m\u001b[0;34m\u001b[0m\u001b[0;34m\u001b[0m\u001b[0m\n",
            "\u001b[0;32m/usr/local/lib/python3.7/dist-packages/pandas/_libs/index.pyx\u001b[0m in \u001b[0;36mpandas._libs.index.IndexEngine.get_loc\u001b[0;34m()\u001b[0m\n",
            "\u001b[0;32m/usr/local/lib/python3.7/dist-packages/pandas/_libs/index.pyx\u001b[0m in \u001b[0;36mpandas._libs.index.IndexEngine.get_loc\u001b[0;34m()\u001b[0m\n",
            "\u001b[0;32mpandas/_libs/hashtable_class_helper.pxi\u001b[0m in \u001b[0;36mpandas._libs.hashtable.PyObjectHashTable.get_item\u001b[0;34m()\u001b[0m\n",
            "\u001b[0;32mpandas/_libs/hashtable_class_helper.pxi\u001b[0m in \u001b[0;36mpandas._libs.hashtable.PyObjectHashTable.get_item\u001b[0;34m()\u001b[0m\n",
            "\u001b[0;31mKeyError\u001b[0m: 'coin'",
            "\nThe above exception was the direct cause of the following exception:\n",
            "\u001b[0;31mKeyError\u001b[0m                                  Traceback (most recent call last)",
            "\u001b[0;32m<ipython-input-19-8394324fbfd2>\u001b[0m in \u001b[0;36m<module>\u001b[0;34m()\u001b[0m\n\u001b[1;32m     10\u001b[0m \u001b[0;34m\u001b[0m\u001b[0m\n\u001b[1;32m     11\u001b[0m \u001b[0mactualPrice\u001b[0m \u001b[0;34m=\u001b[0m \u001b[0mdf\u001b[0m\u001b[0;34m[\u001b[0m\u001b[0;34m'close'\u001b[0m\u001b[0;34m]\u001b[0m\u001b[0;34m.\u001b[0m\u001b[0miloc\u001b[0m\u001b[0;34m[\u001b[0m\u001b[0;34m-\u001b[0m\u001b[0;36m1\u001b[0m\u001b[0;34m]\u001b[0m\u001b[0;34m\u001b[0m\u001b[0;34m\u001b[0m\u001b[0m\n\u001b[0;32m---> 12\u001b[0;31m \u001b[0mfiatAmount\u001b[0m \u001b[0;34m=\u001b[0m \u001b[0mgetBalance\u001b[0m\u001b[0;34m(\u001b[0m\u001b[0mclient\u001b[0m\u001b[0;34m,\u001b[0m \u001b[0mfiatSymbol\u001b[0m\u001b[0;34m)\u001b[0m\u001b[0;34m\u001b[0m\u001b[0;34m\u001b[0m\u001b[0m\n\u001b[0m\u001b[1;32m     13\u001b[0m \u001b[0mcryptoAmount\u001b[0m \u001b[0;34m=\u001b[0m \u001b[0mgetBalance\u001b[0m\u001b[0;34m(\u001b[0m\u001b[0mclient\u001b[0m\u001b[0;34m,\u001b[0m \u001b[0mcryptoSymbol\u001b[0m\u001b[0;34m)\u001b[0m\u001b[0;34m\u001b[0m\u001b[0;34m\u001b[0m\u001b[0m\n\u001b[1;32m     14\u001b[0m \u001b[0;34m\u001b[0m\u001b[0m\n",
            "\u001b[0;32m<ipython-input-19-8394324fbfd2>\u001b[0m in \u001b[0;36mgetBalance\u001b[0;34m(myclient, coin)\u001b[0m\n\u001b[1;32m      2\u001b[0m     \u001b[0mjsonBalance\u001b[0m \u001b[0;34m=\u001b[0m \u001b[0mmyclient\u001b[0m\u001b[0;34m.\u001b[0m\u001b[0mget_balances\u001b[0m\u001b[0;34m(\u001b[0m\u001b[0;34m)\u001b[0m\u001b[0;34m\u001b[0m\u001b[0;34m\u001b[0m\u001b[0m\n\u001b[1;32m      3\u001b[0m     \u001b[0mpandaBalance\u001b[0m \u001b[0;34m=\u001b[0m \u001b[0mpd\u001b[0m\u001b[0;34m.\u001b[0m\u001b[0mDataFrame\u001b[0m\u001b[0;34m(\u001b[0m\u001b[0mjsonBalance\u001b[0m\u001b[0;34m)\u001b[0m\u001b[0;34m\u001b[0m\u001b[0;34m\u001b[0m\u001b[0m\n\u001b[0;32m----> 4\u001b[0;31m     \u001b[0;32mif\u001b[0m \u001b[0mpandaBalance\u001b[0m\u001b[0;34m.\u001b[0m\u001b[0mloc\u001b[0m\u001b[0;34m[\u001b[0m\u001b[0mpandaBalance\u001b[0m\u001b[0;34m[\u001b[0m\u001b[0;34m'coin'\u001b[0m\u001b[0;34m]\u001b[0m \u001b[0;34m==\u001b[0m \u001b[0mcoin\u001b[0m\u001b[0;34m]\u001b[0m\u001b[0;34m.\u001b[0m\u001b[0mempty\u001b[0m \u001b[0;34m:\u001b[0m \u001b[0;32mreturn\u001b[0m \u001b[0;36m0\u001b[0m\u001b[0;34m\u001b[0m\u001b[0;34m\u001b[0m\u001b[0m\n\u001b[0m\u001b[1;32m      5\u001b[0m     \u001b[0;32melse\u001b[0m \u001b[0;34m:\u001b[0m \u001b[0;32mreturn\u001b[0m \u001b[0mfloat\u001b[0m\u001b[0;34m(\u001b[0m\u001b[0mpandaBalance\u001b[0m\u001b[0;34m.\u001b[0m\u001b[0mloc\u001b[0m\u001b[0;34m[\u001b[0m\u001b[0mpandaBalance\u001b[0m\u001b[0;34m[\u001b[0m\u001b[0;34m'coin'\u001b[0m\u001b[0;34m]\u001b[0m \u001b[0;34m==\u001b[0m \u001b[0mcoin\u001b[0m\u001b[0;34m]\u001b[0m\u001b[0;34m[\u001b[0m\u001b[0;34m'free'\u001b[0m\u001b[0;34m]\u001b[0m\u001b[0;34m)\u001b[0m\u001b[0;34m\u001b[0m\u001b[0;34m\u001b[0m\u001b[0m\n\u001b[1;32m      6\u001b[0m \u001b[0;34m\u001b[0m\u001b[0m\n",
            "\u001b[0;32m/usr/local/lib/python3.7/dist-packages/pandas/core/frame.py\u001b[0m in \u001b[0;36m__getitem__\u001b[0;34m(self, key)\u001b[0m\n\u001b[1;32m   3456\u001b[0m             \u001b[0;32mif\u001b[0m \u001b[0mself\u001b[0m\u001b[0;34m.\u001b[0m\u001b[0mcolumns\u001b[0m\u001b[0;34m.\u001b[0m\u001b[0mnlevels\u001b[0m \u001b[0;34m>\u001b[0m \u001b[0;36m1\u001b[0m\u001b[0;34m:\u001b[0m\u001b[0;34m\u001b[0m\u001b[0;34m\u001b[0m\u001b[0m\n\u001b[1;32m   3457\u001b[0m                 \u001b[0;32mreturn\u001b[0m \u001b[0mself\u001b[0m\u001b[0;34m.\u001b[0m\u001b[0m_getitem_multilevel\u001b[0m\u001b[0;34m(\u001b[0m\u001b[0mkey\u001b[0m\u001b[0;34m)\u001b[0m\u001b[0;34m\u001b[0m\u001b[0;34m\u001b[0m\u001b[0m\n\u001b[0;32m-> 3458\u001b[0;31m             \u001b[0mindexer\u001b[0m \u001b[0;34m=\u001b[0m \u001b[0mself\u001b[0m\u001b[0;34m.\u001b[0m\u001b[0mcolumns\u001b[0m\u001b[0;34m.\u001b[0m\u001b[0mget_loc\u001b[0m\u001b[0;34m(\u001b[0m\u001b[0mkey\u001b[0m\u001b[0;34m)\u001b[0m\u001b[0;34m\u001b[0m\u001b[0;34m\u001b[0m\u001b[0m\n\u001b[0m\u001b[1;32m   3459\u001b[0m             \u001b[0;32mif\u001b[0m \u001b[0mis_integer\u001b[0m\u001b[0;34m(\u001b[0m\u001b[0mindexer\u001b[0m\u001b[0;34m)\u001b[0m\u001b[0;34m:\u001b[0m\u001b[0;34m\u001b[0m\u001b[0;34m\u001b[0m\u001b[0m\n\u001b[1;32m   3460\u001b[0m                 \u001b[0mindexer\u001b[0m \u001b[0;34m=\u001b[0m \u001b[0;34m[\u001b[0m\u001b[0mindexer\u001b[0m\u001b[0;34m]\u001b[0m\u001b[0;34m\u001b[0m\u001b[0;34m\u001b[0m\u001b[0m\n",
            "\u001b[0;32m/usr/local/lib/python3.7/dist-packages/pandas/core/indexes/base.py\u001b[0m in \u001b[0;36mget_loc\u001b[0;34m(self, key, method, tolerance)\u001b[0m\n\u001b[1;32m   3361\u001b[0m                 \u001b[0;32mreturn\u001b[0m \u001b[0mself\u001b[0m\u001b[0;34m.\u001b[0m\u001b[0m_engine\u001b[0m\u001b[0;34m.\u001b[0m\u001b[0mget_loc\u001b[0m\u001b[0;34m(\u001b[0m\u001b[0mcasted_key\u001b[0m\u001b[0;34m)\u001b[0m\u001b[0;34m\u001b[0m\u001b[0;34m\u001b[0m\u001b[0m\n\u001b[1;32m   3362\u001b[0m             \u001b[0;32mexcept\u001b[0m \u001b[0mKeyError\u001b[0m \u001b[0;32mas\u001b[0m \u001b[0merr\u001b[0m\u001b[0;34m:\u001b[0m\u001b[0;34m\u001b[0m\u001b[0;34m\u001b[0m\u001b[0m\n\u001b[0;32m-> 3363\u001b[0;31m                 \u001b[0;32mraise\u001b[0m \u001b[0mKeyError\u001b[0m\u001b[0;34m(\u001b[0m\u001b[0mkey\u001b[0m\u001b[0;34m)\u001b[0m \u001b[0;32mfrom\u001b[0m \u001b[0merr\u001b[0m\u001b[0;34m\u001b[0m\u001b[0;34m\u001b[0m\u001b[0m\n\u001b[0m\u001b[1;32m   3364\u001b[0m \u001b[0;34m\u001b[0m\u001b[0m\n\u001b[1;32m   3365\u001b[0m         \u001b[0;32mif\u001b[0m \u001b[0mis_scalar\u001b[0m\u001b[0;34m(\u001b[0m\u001b[0mkey\u001b[0m\u001b[0;34m)\u001b[0m \u001b[0;32mand\u001b[0m \u001b[0misna\u001b[0m\u001b[0;34m(\u001b[0m\u001b[0mkey\u001b[0m\u001b[0;34m)\u001b[0m \u001b[0;32mand\u001b[0m \u001b[0;32mnot\u001b[0m \u001b[0mself\u001b[0m\u001b[0;34m.\u001b[0m\u001b[0mhasnans\u001b[0m\u001b[0;34m:\u001b[0m\u001b[0;34m\u001b[0m\u001b[0;34m\u001b[0m\u001b[0m\n",
            "\u001b[0;31mKeyError\u001b[0m: 'coin'"
          ]
        }
      ]
    }
  ]
}